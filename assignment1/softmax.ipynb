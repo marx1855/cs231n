{
 "cells": [
  {
   "cell_type": "markdown",
   "metadata": {},
   "source": [
    "# Softmax exercise\n",
    "\n",
    "*Complete and hand in this completed worksheet (including its outputs and any supporting code outside of the worksheet) with your assignment submission. For more details see the [assignments page](http://vision.stanford.edu/teaching/cs231n/assignments.html) on the course website.*\n",
    "\n",
    "This exercise is analogous to the SVM exercise. You will:\n",
    "\n",
    "- implement a fully-vectorized **loss function** for the Softmax classifier\n",
    "- implement the fully-vectorized expression for its **analytic gradient**\n",
    "- **check your implementation** with numerical gradient\n",
    "- use a validation set to **tune the learning rate and regularization** strength\n",
    "- **optimize** the loss function with **SGD**\n",
    "- **visualize** the final learned weights\n"
   ]
  },
  {
   "cell_type": "code",
   "execution_count": 1,
   "metadata": {
    "collapsed": true
   },
   "outputs": [],
   "source": [
    "import random\n",
    "import numpy as np\n",
    "from cs231n.data_utils import load_CIFAR10\n",
    "import matplotlib.pyplot as plt\n",
    "\n",
    "from __future__ import print_function\n",
    "\n",
    "%matplotlib inline\n",
    "plt.rcParams['figure.figsize'] = (10.0, 8.0) # set default size of plots\n",
    "plt.rcParams['image.interpolation'] = 'nearest'\n",
    "plt.rcParams['image.cmap'] = 'gray'\n",
    "\n",
    "# for auto-reloading extenrnal modules\n",
    "# see http://stackoverflow.com/questions/1907993/autoreload-of-modules-in-ipython\n",
    "%load_ext autoreload\n",
    "%autoreload 2"
   ]
  },
  {
   "cell_type": "code",
   "execution_count": 2,
   "metadata": {},
   "outputs": [
    {
     "name": "stdout",
     "output_type": "stream",
     "text": [
      "Train data shape:  (49000, 3073)\n",
      "Train labels shape:  (49000,)\n",
      "Validation data shape:  (1000, 3073)\n",
      "Validation labels shape:  (1000,)\n",
      "Test data shape:  (1000, 3073)\n",
      "Test labels shape:  (1000,)\n",
      "dev data shape:  (500, 3073)\n",
      "dev labels shape:  (500,)\n"
     ]
    }
   ],
   "source": [
    "def get_CIFAR10_data(num_training=49000, num_validation=1000, num_test=1000, num_dev=500):\n",
    "    \"\"\"\n",
    "    Load the CIFAR-10 dataset from disk and perform preprocessing to prepare\n",
    "    it for the linear classifier. These are the same steps as we used for the\n",
    "    SVM, but condensed to a single function.  \n",
    "    \"\"\"\n",
    "    # Load the raw CIFAR-10 data\n",
    "    cifar10_dir = 'cs231n/datasets/cifar-10-batches-py'\n",
    "    X_train, y_train, X_test, y_test = load_CIFAR10(cifar10_dir)\n",
    "    \n",
    "    # subsample the data\n",
    "    mask = list(range(num_training, num_training + num_validation))\n",
    "    X_val = X_train[mask]\n",
    "    y_val = y_train[mask]\n",
    "    mask = list(range(num_training))\n",
    "    X_train = X_train[mask]\n",
    "    y_train = y_train[mask]\n",
    "    mask = list(range(num_test))\n",
    "    X_test = X_test[mask]\n",
    "    y_test = y_test[mask]\n",
    "    mask = np.random.choice(num_training, num_dev, replace=False)\n",
    "    X_dev = X_train[mask]\n",
    "    y_dev = y_train[mask]\n",
    "    \n",
    "    # Preprocessing: reshape the image data into rows\n",
    "    X_train = np.reshape(X_train, (X_train.shape[0], -1))\n",
    "    X_val = np.reshape(X_val, (X_val.shape[0], -1))\n",
    "    X_test = np.reshape(X_test, (X_test.shape[0], -1))\n",
    "    X_dev = np.reshape(X_dev, (X_dev.shape[0], -1))\n",
    "    \n",
    "    # Normalize the data: subtract the mean image\n",
    "    mean_image = np.mean(X_train, axis = 0)\n",
    "    X_train -= mean_image\n",
    "    X_val -= mean_image\n",
    "    X_test -= mean_image\n",
    "    X_dev -= mean_image\n",
    "    \n",
    "    # add bias dimension and transform into columns\n",
    "    X_train = np.hstack([X_train, np.ones((X_train.shape[0], 1))])\n",
    "    X_val = np.hstack([X_val, np.ones((X_val.shape[0], 1))])\n",
    "    X_test = np.hstack([X_test, np.ones((X_test.shape[0], 1))])\n",
    "    X_dev = np.hstack([X_dev, np.ones((X_dev.shape[0], 1))])\n",
    "    \n",
    "    return X_train, y_train, X_val, y_val, X_test, y_test, X_dev, y_dev\n",
    "\n",
    "\n",
    "# Invoke the above function to get our data.\n",
    "X_train, y_train, X_val, y_val, X_test, y_test, X_dev, y_dev = get_CIFAR10_data()\n",
    "print('Train data shape: ', X_train.shape)\n",
    "print('Train labels shape: ', y_train.shape)\n",
    "print('Validation data shape: ', X_val.shape)\n",
    "print('Validation labels shape: ', y_val.shape)\n",
    "print('Test data shape: ', X_test.shape)\n",
    "print('Test labels shape: ', y_test.shape)\n",
    "print('dev data shape: ', X_dev.shape)\n",
    "print('dev labels shape: ', y_dev.shape)"
   ]
  },
  {
   "cell_type": "markdown",
   "metadata": {},
   "source": [
    "## Softmax Classifier\n",
    "\n",
    "Your code for this section will all be written inside **cs231n/classifiers/softmax.py**. \n"
   ]
  },
  {
   "cell_type": "code",
   "execution_count": 3,
   "metadata": {},
   "outputs": [
    {
     "name": "stdout",
     "output_type": "stream",
     "text": [
      "9\n"
     ]
    }
   ],
   "source": [
    "print (y_train[1])"
   ]
  },
  {
   "cell_type": "code",
   "execution_count": 4,
   "metadata": {},
   "outputs": [
    {
     "name": "stdout",
     "output_type": "stream",
     "text": [
      "loss: 2.390222\n",
      "sanity check: 2.302585\n"
     ]
    }
   ],
   "source": [
    "# First implement the naive softmax loss function with nested loops.\n",
    "# Open the file cs231n/classifiers/softmax.py and implement the\n",
    "# softmax_loss_naive function.\n",
    "\n",
    "from cs231n.classifiers.softmax import softmax_loss_naive\n",
    "import time\n",
    "\n",
    "# Generate a random softmax weight matrix and use it to compute the loss.\n",
    "W = np.random.randn(3073, 10) * 0.0001\n",
    "loss, grad = softmax_loss_naive(W, X_dev, y_dev, 0.0)\n",
    "\n",
    "# As a rough sanity check, our loss should be something close to -log(0.1).\n",
    "print('loss: %f' % loss)\n",
    "print('sanity check: %f' % (-np.log(0.1)))"
   ]
  },
  {
   "cell_type": "markdown",
   "metadata": {},
   "source": [
    "## Inline Question 1:\n",
    "Why do we expect our loss to be close to -log(0.1)? Explain briefly.**\n",
    "\n",
    "**Your answer:** *Fill this in*\n"
   ]
  },
  {
   "cell_type": "code",
   "execution_count": 63,
   "metadata": {
    "scrolled": true
   },
   "outputs": [
    {
     "name": "stdout",
     "output_type": "stream",
     "text": [
      "numerical: -3.245625 analytic: -3.245625, relative error: 3.055037e-09\n",
      "numerical: 1.215992 analytic: 1.215992, relative error: 2.029712e-08\n",
      "numerical: 0.375445 analytic: 0.375445, relative error: 3.766038e-08\n",
      "numerical: -1.110766 analytic: -1.110766, relative error: 4.182922e-08\n",
      "numerical: -5.236116 analytic: -5.236116, relative error: 2.845296e-09\n",
      "numerical: -1.126402 analytic: -1.126402, relative error: 1.431205e-08\n",
      "numerical: 3.491294 analytic: 3.491294, relative error: 1.334461e-08\n",
      "numerical: 2.017552 analytic: 2.017552, relative error: 1.868511e-08\n",
      "numerical: 5.936728 analytic: 5.936728, relative error: 9.008461e-09\n",
      "numerical: 1.009029 analytic: 1.009029, relative error: 6.727162e-09\n",
      "numerical: 0.780975 analytic: 0.780975, relative error: 8.711221e-08\n",
      "numerical: -1.523898 analytic: -1.523898, relative error: 3.024576e-09\n",
      "numerical: -0.170395 analytic: -0.170395, relative error: 1.369378e-08\n",
      "numerical: -2.971926 analytic: -2.971926, relative error: 1.373383e-08\n",
      "numerical: -1.933290 analytic: -1.933290, relative error: 9.569530e-09\n",
      "numerical: -4.917584 analytic: -4.917584, relative error: 2.900709e-09\n",
      "numerical: 2.938475 analytic: 2.938475, relative error: 4.143742e-09\n",
      "numerical: -1.914850 analytic: -1.914850, relative error: 1.987172e-09\n",
      "numerical: -1.935074 analytic: -1.935074, relative error: 4.658039e-09\n",
      "numerical: -2.161328 analytic: -2.161328, relative error: 1.298778e-08\n"
     ]
    }
   ],
   "source": [
    "# Complete the implementation of softmax_loss_naive and implement a (naive)\n",
    "# version of the gradient that uses nested loops.\n",
    "loss, grad = softmax_loss_naive(W, X_dev, y_dev, 0.0)\n",
    "\n",
    "# As we did for the SVM, use numeric gradient checking as a debugging tool.\n",
    "# The numeric gradient should be close to the analytic gradient.\n",
    "from cs231n.gradient_check import grad_check_sparse\n",
    "f = lambda w: softmax_loss_naive(w, X_dev, y_dev, 0.0)[0]\n",
    "grad_numerical = grad_check_sparse(f, W, grad, 10)\n",
    "#print (\"grad_numerical = \")\n",
    "#print (grad_numerical)\n",
    "\n",
    "# similar to SVM case, do another gradient check with regularization\n",
    "loss, grad = softmax_loss_naive(W, X_dev, y_dev, 5e1)\n",
    "f = lambda w: softmax_loss_naive(w, X_dev, y_dev, 5e1)[0]\n",
    "grad_numerical = grad_check_sparse(f, W, grad, 10)\n"
   ]
  },
  {
   "cell_type": "code",
   "execution_count": 64,
   "metadata": {},
   "outputs": [
    {
     "name": "stdout",
     "output_type": "stream",
     "text": [
      "naive loss: 2.390222e+00 computed in 0.050531s\n",
      "vectorized loss: 2.390222e+00 computed in 0.002122s\n",
      "Loss difference: 0.000000\n",
      "[[ -1.51909539e+00  -1.66692110e+00  -8.39888857e-01 ...,  -1.66983757e+00\n",
      "   -1.06173328e+00  -1.75902329e+00]\n",
      " [ -2.72116787e+00  -1.28059073e+00  -1.17314817e+00 ...,  -1.43072625e+00\n",
      "   -2.36840515e+00  -2.24270785e+00]\n",
      " [ -5.20753573e+00  -5.55634410e-01  -1.10014760e-02 ...,  -1.45846107e+00\n",
      "   -4.36001739e+00  -3.31947070e+00]\n",
      " ..., \n",
      " [ -2.82866556e+00  -5.28595704e-01  -1.32170394e+00 ...,  -4.13829967e+00\n",
      "    2.76261278e+00  -1.83159576e-01]\n",
      " [ -4.46279301e+00  -1.01454753e+00  -4.37024308e-01 ...,  -2.23177508e+00\n",
      "    7.67762524e-01  -1.03714853e+00]\n",
      " [ -3.45389010e-03   1.37915175e-02  -2.77342111e-04 ...,  -1.46471486e-02\n",
      "   -2.43096874e-03   1.44259901e-02]]\n",
      "Gradient difference: 0.000000\n"
     ]
    }
   ],
   "source": [
    "# Now that we have a naive implementation of the softmax loss function and its gradient,\n",
    "# implement a vectorized version in softmax_loss_vectorized.\n",
    "# The two versions should compute the same results, but the vectorized version should be\n",
    "# much faster.\n",
    "tic = time.time()\n",
    "loss_naive, grad_naive = softmax_loss_naive(W, X_dev, y_dev, 0.000005)\n",
    "toc = time.time()\n",
    "print('naive loss: %e computed in %fs' % (loss_naive, toc - tic))\n",
    "\n",
    "from cs231n.classifiers.softmax import softmax_loss_vectorized\n",
    "tic = time.time()\n",
    "loss_vectorized, grad_vectorized = softmax_loss_vectorized(W, X_dev, y_dev, 0.000005)\n",
    "toc = time.time()\n",
    "print('vectorized loss: %e computed in %fs' % (loss_vectorized, toc - tic))\n",
    "\n",
    "# As we did for the SVM, we use the Frobenius norm to compare the two versions\n",
    "# of the gradient.\n",
    "grad_difference = np.linalg.norm(grad_naive - grad_vectorized, ord='fro')\n",
    "print('Loss difference: %f' % np.abs(loss_naive - loss_vectorized))\n",
    "print (grad_vectorized)\n",
    "print('Gradient difference: %f' % grad_difference)"
   ]
  },
  {
   "cell_type": "code",
   "execution_count": 67,
   "metadata": {},
   "outputs": [
    {
     "name": "stdout",
     "output_type": "stream",
     "text": [
      "iteration 0 / 1500: loss 387.925154\n",
      "iteration 100 / 1500: loss 2.294371\n",
      "iteration 200 / 1500: loss 2.297258\n",
      "iteration 300 / 1500: loss 2.293998\n",
      "iteration 400 / 1500: loss 2.293628\n",
      "iteration 500 / 1500: loss 2.294984\n",
      "iteration 600 / 1500: loss 2.296527\n",
      "iteration 700 / 1500: loss 2.295458\n",
      "iteration 800 / 1500: loss 2.293801\n",
      "iteration 900 / 1500: loss 2.295414\n",
      "iteration 1000 / 1500: loss 2.291861\n",
      "iteration 1100 / 1500: loss 2.294298\n",
      "iteration 1200 / 1500: loss 2.294368\n",
      "iteration 1300 / 1500: loss 2.292547\n",
      "iteration 1400 / 1500: loss 2.294236\n",
      "iteration 0 / 1500: loss 769.798644\n",
      "iteration 100 / 1500: loss 2.294227\n",
      "iteration 200 / 1500: loss 2.294214\n",
      "iteration 300 / 1500: loss 2.295540\n",
      "iteration 400 / 1500: loss 2.292744\n",
      "iteration 500 / 1500: loss 2.295461\n",
      "iteration 600 / 1500: loss 2.297949\n",
      "iteration 700 / 1500: loss 2.295409\n",
      "iteration 800 / 1500: loss 2.296117\n",
      "iteration 900 / 1500: loss 2.294650\n",
      "iteration 1000 / 1500: loss 2.294143\n",
      "iteration 1100 / 1500: loss 2.293814\n",
      "iteration 1200 / 1500: loss 2.294123\n",
      "iteration 1300 / 1500: loss 2.291076\n",
      "iteration 1400 / 1500: loss 2.294938\n",
      "iteration 0 / 1500: loss 391.436966\n",
      "iteration 100 / 1500: loss 2.290304\n",
      "iteration 200 / 1500: loss 2.287657\n",
      "iteration 300 / 1500: loss 2.287205\n",
      "iteration 400 / 1500: loss 2.288398\n",
      "iteration 500 / 1500: loss 2.288162\n",
      "iteration 600 / 1500: loss 2.283340\n",
      "iteration 700 / 1500: loss 2.286638\n",
      "iteration 800 / 1500: loss 2.293625\n",
      "iteration 900 / 1500: loss 2.292461\n",
      "iteration 1000 / 1500: loss 2.286222\n",
      "iteration 1100 / 1500: loss 2.290268\n",
      "iteration 1200 / 1500: loss 2.288773\n",
      "iteration 1300 / 1500: loss 2.286211\n",
      "iteration 1400 / 1500: loss 2.290633\n",
      "iteration 0 / 1500: loss 773.243101\n",
      "iteration 100 / 1500: loss 2.287621\n",
      "iteration 200 / 1500: loss 2.281842\n",
      "iteration 300 / 1500: loss 2.292634\n",
      "iteration 400 / 1500: loss 2.290547\n",
      "iteration 500 / 1500: loss 2.287963\n",
      "iteration 600 / 1500: loss 2.292048\n",
      "iteration 700 / 1500: loss 2.288483\n",
      "iteration 800 / 1500: loss 2.287398\n",
      "iteration 900 / 1500: loss 2.289218\n",
      "iteration 1000 / 1500: loss 2.290073\n",
      "iteration 1100 / 1500: loss 2.287379\n",
      "iteration 1200 / 1500: loss 2.290703\n",
      "iteration 1300 / 1500: loss 2.285216\n",
      "iteration 1400 / 1500: loss 2.289197\n",
      "iteration 0 / 1500: loss 384.605752\n",
      "iteration 100 / 1500: loss 2.281160\n",
      "iteration 200 / 1500: loss 2.273486\n",
      "iteration 300 / 1500: loss 2.277340\n",
      "iteration 400 / 1500: loss 2.284678\n",
      "iteration 500 / 1500: loss 2.277469\n",
      "iteration 600 / 1500: loss 2.286500\n",
      "iteration 700 / 1500: loss 2.281189\n",
      "iteration 800 / 1500: loss 2.286156\n",
      "iteration 900 / 1500: loss 2.278357\n",
      "iteration 1000 / 1500: loss 2.283080\n",
      "iteration 1100 / 1500: loss 2.284620\n",
      "iteration 1200 / 1500: loss 2.281166\n",
      "iteration 1300 / 1500: loss 2.287491\n",
      "iteration 1400 / 1500: loss 2.277820\n",
      "iteration 0 / 1500: loss 764.961970\n",
      "iteration 100 / 1500: loss 2.280643\n",
      "iteration 200 / 1500: loss 2.286080\n",
      "iteration 300 / 1500: loss 2.283474\n",
      "iteration 400 / 1500: loss 2.281124\n",
      "iteration 500 / 1500: loss 2.281726\n",
      "iteration 600 / 1500: loss 2.275913\n",
      "iteration 700 / 1500: loss 2.285174\n",
      "iteration 800 / 1500: loss 2.275653\n",
      "iteration 900 / 1500: loss 2.285367\n",
      "iteration 1000 / 1500: loss 2.279221\n",
      "iteration 1100 / 1500: loss 2.280985\n",
      "iteration 1200 / 1500: loss 2.275341\n",
      "iteration 1300 / 1500: loss 2.280138\n",
      "iteration 1400 / 1500: loss 2.281884\n",
      "iteration 0 / 1500: loss 395.999037\n",
      "iteration 100 / 1500: loss 2.272474\n",
      "iteration 200 / 1500: loss 2.265074\n",
      "iteration 300 / 1500: loss 2.270251\n",
      "iteration 400 / 1500: loss 2.280131\n",
      "iteration 500 / 1500: loss 2.274724\n",
      "iteration 600 / 1500: loss 2.276289\n",
      "iteration 700 / 1500: loss 2.277029\n",
      "iteration 800 / 1500: loss 2.277434\n",
      "iteration 900 / 1500: loss 2.277063\n",
      "iteration 1000 / 1500: loss 2.283348\n",
      "iteration 1100 / 1500: loss 2.272825\n",
      "iteration 1200 / 1500: loss 2.273787\n",
      "iteration 1300 / 1500: loss 2.264423\n",
      "iteration 1400 / 1500: loss 2.279309\n",
      "iteration 0 / 1500: loss 776.313385\n",
      "iteration 100 / 1500: loss 2.270403\n",
      "iteration 200 / 1500: loss 2.277249\n",
      "iteration 300 / 1500: loss 2.267655\n",
      "iteration 400 / 1500: loss 2.274410\n",
      "iteration 500 / 1500: loss 2.277420\n",
      "iteration 600 / 1500: loss 2.272038\n",
      "iteration 700 / 1500: loss 2.265681\n",
      "iteration 800 / 1500: loss 2.272087\n",
      "iteration 900 / 1500: loss 2.269818\n",
      "iteration 1000 / 1500: loss 2.277463\n",
      "iteration 1100 / 1500: loss 2.260288\n",
      "iteration 1200 / 1500: loss 2.279768\n",
      "iteration 1300 / 1500: loss 2.269872\n",
      "iteration 1400 / 1500: loss 2.287842\n",
      "iteration 0 / 1500: loss 389.581799\n",
      "iteration 100 / 1500: loss 2.265436\n",
      "iteration 200 / 1500: loss 2.267477\n",
      "iteration 300 / 1500: loss 2.268745\n",
      "iteration 400 / 1500: loss 2.276114\n",
      "iteration 500 / 1500: loss 2.272830\n",
      "iteration 600 / 1500: loss 2.281297\n",
      "iteration 700 / 1500: loss 2.269826\n",
      "iteration 800 / 1500: loss 2.269347\n",
      "iteration 900 / 1500: loss 2.269363\n",
      "iteration 1000 / 1500: loss 2.271517\n",
      "iteration 1100 / 1500: loss 2.268694\n",
      "iteration 1200 / 1500: loss 2.265556\n",
      "iteration 1300 / 1500: loss 2.265437\n",
      "iteration 1400 / 1500: loss 2.271424\n",
      "iteration 0 / 1500: loss 770.776271\n",
      "iteration 100 / 1500: loss 2.270215\n",
      "iteration 200 / 1500: loss 2.268926\n",
      "iteration 300 / 1500: loss 2.267538\n",
      "iteration 400 / 1500: loss 2.273491\n",
      "iteration 500 / 1500: loss 2.282473\n",
      "iteration 600 / 1500: loss 2.275687\n",
      "iteration 700 / 1500: loss 2.268578\n",
      "iteration 800 / 1500: loss 2.259376\n",
      "iteration 900 / 1500: loss 2.270327\n",
      "iteration 1000 / 1500: loss 2.261446\n",
      "iteration 1100 / 1500: loss 2.267358\n",
      "iteration 1200 / 1500: loss 2.266285\n",
      "iteration 1300 / 1500: loss 2.257476\n",
      "iteration 1400 / 1500: loss 2.257116\n",
      "{(50000.0, 3e-07): (0.19318367346938775, (0.185,)), (25000.0, 4e-07): (0.24187755102040817, (0.24299999999999999,)), (50000.0, 2e-07): (0.2136938775510204, (0.193,)), (50000.0, 5e-07): (0.22753061224489796, (0.22900000000000001,)), (25000.0, 2e-07): (0.2253061224489796, (0.249,)), (25000.0, 1e-07): (0.23246938775510204, (0.22,)), (50000.0, 4e-07): (0.20455102040816325, (0.20699999999999999,)), (25000.0, 5e-07): (0.22193877551020408, (0.23899999999999999,)), (25000.0, 3e-07): (0.21379591836734693, (0.21199999999999999,)), (50000.0, 1e-07): (0.22969387755102041, (0.249,))}\n",
      "best validation accuracy achieved during cross-validation: 0.249000\n"
     ]
    }
   ],
   "source": [
    "# Use the validation set to tune hyperparameters (regularization strength and\n",
    "# learning rate). You should experiment with different ranges for the learning\n",
    "# rates and regularization strengths; if you are careful you should be able to\n",
    "# get a classification accuracy of over 0.35 on the validation set.\n",
    "from cs231n.classifiers import Softmax\n",
    "results = {}\n",
    "best_val = -1\n",
    "best_softmax = None\n",
    "learning_rates = [1e-7, 2e-7, 3e-7, 4e-7, 5e-7]\n",
    "regularization_strengths = [2.5e4, 5e4]\n",
    "\n",
    "################################################################################\n",
    "# TODO:                                                                        #\n",
    "# Use the validation set to set the learning rate and regularization strength. #\n",
    "# This should be identical to the validation that you did for the SVM; save    #\n",
    "# the best trained softmax classifer in best_softmax.                          #\n",
    "################################################################################\n",
    "softmax = Softmax()\n",
    "for rate in learning_rates:\n",
    "    for str in regularization_strengths:\n",
    "        softmax = Softmax()\n",
    "        loss_hist = softmax.train(X_train, y_train, learning_rate=rate, reg=str,\n",
    "                      num_iters=1500, verbose=True)\n",
    "        y_train_pred = softmax.predict(X_train)\n",
    "        train_rate = (np.mean(y_train == y_train_pred))\n",
    "        y_val_pred = softmax.predict(X_val)\n",
    "        val_rate = (np.mean(y_val == y_val_pred), )\n",
    "        results[(str,rate)] = train_rate, val_rate\n",
    "        #print (y_val_pred)\n",
    "        if val_rate > best_val:\n",
    "            best_softmax = softmax\n",
    "            best_val = val_rate\n",
    "        \n",
    "print (results)\n",
    "        \n",
    "################################################################################\n",
    "#                              END OF YOUR CODE                                #\n",
    "################################################################################\n",
    "    \n",
    "# Print out results.\n",
    "for lr, reg in sorted(results):\n",
    "    train_accuracy, val_accuracy = results[(lr, reg)]\n",
    "    #print('lr %e reg %e train accuracy: %f val accuracy: %f' % (\n",
    "    #            lr, reg, train_accuracy, val_accuracy))\n",
    "    \n",
    "print('best validation accuracy achieved during cross-validation: %f' % best_val)"
   ]
  },
  {
   "cell_type": "code",
   "execution_count": 68,
   "metadata": {},
   "outputs": [
    {
     "name": "stdout",
     "output_type": "stream",
     "text": [
      "softmax on raw pixels final test set accuracy: 0.247000\n"
     ]
    }
   ],
   "source": [
    "# evaluate on test set\n",
    "# Evaluate the best softmax on test set\n",
    "y_test_pred = best_softmax.predict(X_test)\n",
    "test_accuracy = np.mean(y_test == y_test_pred)\n",
    "print('softmax on raw pixels final test set accuracy: %f' % (test_accuracy, ))"
   ]
  },
  {
   "cell_type": "code",
   "execution_count": 69,
   "metadata": {},
   "outputs": [
    {
     "data": {
      "image/png": "[encoded data removed]",
      "text/plain": [
       "<matplotlib.figure.Figure at 0x11778d490>"
      ]
     },
     "metadata": {},
     "output_type": "display_data"
    }
   ],
   "source": [
    "# Visualize the learned weights for each class\n",
    "w = best_softmax.W[:-1,:] # strip out the bias\n",
    "w = w.reshape(32, 32, 3, 10)\n",
    "\n",
    "w_min, w_max = np.min(w), np.max(w)\n",
    "\n",
    "classes = ['plane', 'car', 'bird', 'cat', 'deer', 'dog', 'frog', 'horse', 'ship', 'truck']\n",
    "for i in range(10):\n",
    "    plt.subplot(2, 5, i + 1)\n",
    "    \n",
    "    # Rescale the weights to be between 0 and 255\n",
    "    wimg = 255.0 * (w[:, :, :, i].squeeze() - w_min) / (w_max - w_min)\n",
    "    plt.imshow(wimg.astype('uint8'))\n",
    "    plt.axis('off')\n",
    "    plt.title(classes[i])"
   ]
  },
  {
   "cell_type": "code",
   "execution_count": null,
   "metadata": {
    "collapsed": true
   },
   "outputs": [],
   "source": []
  }
 ],
 "metadata": {
  "kernelspec": {
   "display_name": "Python 2",
   "language": "python",
   "name": "python2"
  },
  "language_info": {
   "codemirror_mode": {
    "name": "ipython",
    "version": 2
   },
   "file_extension": ".py",
   "mimetype": "text/x-python",
   "name": "python",
   "nbconvert_exporter": "python",
   "pygments_lexer": "ipython2",
   "version": "2.7.13"
  }
 },
 "nbformat": 4,
 "nbformat_minor": 1
}
